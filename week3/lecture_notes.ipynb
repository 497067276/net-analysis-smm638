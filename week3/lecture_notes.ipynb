{
 "cells": [
  {
   "cell_type": "markdown",
   "metadata": {
    "slideshow": {
     "slide_type": "slide"
    }
   },
   "source": [
    "# Network analytics ― week 3\n",
    "\n",
    "![](images/Figure3.PNG)"
   ]
  },
  {
   "cell_type": "markdown",
   "metadata": {},
   "source": [
    "# Agenda\n",
    "\n",
    "- Week 2 wrap-up\n",
    "- Network theory:\n",
    "    - small-world networks\n",
    "    - core-periphery structures\n",
    "    - community structures\n",
    "- Models & metrics:\n",
    "    - search and collective intelligence in networks\n",
    "- Laboratory (NetworkX)"
   ]
  },
  {
   "cell_type": "markdown",
   "metadata": {
    "slideshow": {
     "slide_type": "slide"
    }
   },
   "source": [
    "# Small-world network and 6 degree of separation"
   ]
  },
  {
   "cell_type": "markdown",
   "metadata": {
    "cell_style": "center",
    "slideshow": {
     "slide_type": "fragment"
    }
   },
   "source": [
    "Everybody in this world is 6 degree distant from us !?"
   ]
  },
  {
   "cell_type": "markdown",
   "metadata": {
    "slideshow": {
     "slide_type": "fragment"
    }
   },
   "source": [
    "Where does this come from?"
   ]
  },
  {
   "cell_type": "markdown",
   "metadata": {
    "slideshow": {
     "slide_type": "slide"
    }
   },
   "source": [
    "# Milgram's experiment"
   ]
  },
  {
   "cell_type": "markdown",
   "metadata": {
    "slideshow": {
     "slide_type": "fragment"
    }
   },
   "source": [
    "- in 1967, Milgram run an experiment by asking randomly chosen **starter** individuals to each try forwarding a letter to a designated **target** person\n",
    "- he provided the target's name, address, occupation, and some demographics.\n",
    "- also, he stipulated each participant could only advance the letter by forwarding it to a single acquaintance he/she knew on a first name basis with the goal of reaching the target as soon as possible"
   ]
  },
  {
   "cell_type": "markdown",
   "metadata": {
    "slideshow": {
     "slide_type": "fragment"
    }
   },
   "source": [
    "$\\rightarrow$ circa 1/3 of the letters got the target with a median of six-steps"
   ]
  },
  {
   "cell_type": "markdown",
   "metadata": {
    "slideshow": {
     "slide_type": "fragment"
    }
   },
   "source": [
    "$\\rightarrow$ common wisdom has developed around this result: \"Everybody is connected to everybody else\" or \"I'm indirectly connected to David Beckham\""
   ]
  },
  {
   "cell_type": "markdown",
   "metadata": {
    "slideshow": {
     "slide_type": "fragment"
    }
   },
   "source": [
    "$\\rightarrow$ in fact, the insight of the study is: \"in some circumstances, it is possible to exploit short paths to reach socially distant others\""
   ]
  },
  {
   "cell_type": "markdown",
   "metadata": {
    "slideshow": {
     "slide_type": "fragment"
    }
   },
   "source": [
    "$\\rightarrow$ further research shows that some people are better than others in seeing these short paths"
   ]
  },
  {
   "cell_type": "markdown",
   "metadata": {
    "slideshow": {
     "slide_type": "slide"
    }
   },
   "source": [
    "# How difficult/costly is exploiting 'short paths', part I"
   ]
  },
  {
   "cell_type": "markdown",
   "metadata": {
    "cell_style": "center",
    "slideshow": {
     "slide_type": "fragment"
    }
   },
   "source": [
    "![](images/cost_of_search.png)"
   ]
  },
  {
   "cell_type": "markdown",
   "metadata": {
    "slideshow": {
     "slide_type": "subslide"
    }
   },
   "source": [
    "# How difficult/costly is exploiting 'short paths', part II"
   ]
  },
  {
   "cell_type": "markdown",
   "metadata": {
    "slideshow": {
     "slide_type": "fragment"
    }
   },
   "source": [
    "![](images/cp_0.png)\n",
    "\n",
    "---\n",
    "Notes: nodes have heterogenous access to shorth paths; core nodes have an advantage over peripheral nodes."
   ]
  },
  {
   "cell_type": "markdown",
   "metadata": {
    "slideshow": {
     "slide_type": "subslide"
    }
   },
   "source": [
    "# Cumulative advantage of core nodes"
   ]
  },
  {
   "cell_type": "markdown",
   "metadata": {
    "cell_style": "split",
    "slideshow": {
     "slide_type": "fragment"
    }
   },
   "source": [
    "Core nodes:\n",
    "\n",
    "- have early stage access to the resources embedded int the network\n",
    "\n",
    "- control the flow of resources within the network\n",
    "\n",
    "- can act strategically to preserve their favorable positions\n",
    "\n",
    "\n",
    "This come at the expenses of peripheral nodes who:\n",
    "\n",
    "- rarely participate in collective search processes (that is, they struggle to bring to the table what they have to offer)\n",
    "\n",
    "- rarely progress toward the core of the network (because core nodes block their 'initiatives')"
   ]
  },
  {
   "cell_type": "markdown",
   "metadata": {
    "cell_style": "split",
    "slideshow": {
     "slide_type": "fragment"
    }
   },
   "source": [
    "![](images/largepreview.png) \n"
   ]
  },
  {
   "cell_type": "markdown",
   "metadata": {
    "slideshow": {
     "slide_type": "subslide"
    }
   },
   "source": []
  },
  {
   "cell_type": "markdown",
   "metadata": {
    "cell_style": "split",
    "slideshow": {
     "slide_type": "fragment"
    }
   },
   "source": [
    "**Exogenous shocks**, such as the sudden premature deaths of core nodes, can create some opportunities for nodes to move from the fringes to the center of the network"
   ]
  },
  {
   "cell_type": "markdown",
   "metadata": {
    "cell_style": "split",
    "slideshow": {
     "slide_type": "fragment"
    }
   },
   "source": [
    "![](images/cfs.png)"
   ]
  },
  {
   "cell_type": "markdown",
   "metadata": {
    "slideshow": {
     "slide_type": "subslide"
    }
   },
   "source": [
    "# How do we identify core-periphery structures?"
   ]
  },
  {
   "cell_type": "markdown",
   "metadata": {
    "cell_style": "split",
    "slideshow": {
     "slide_type": "fragment"
    }
   },
   "source": [
    "Basically, we look for a partitioning of $A_{i, j}$ such that:\n",
    "\n",
    "![](https://ars.els-cdn.com/content/image/1-s2.0-S0378873399000192-fx7.gif)"
   ]
  },
  {
   "cell_type": "markdown",
   "metadata": {
    "cell_style": "split",
    "slideshow": {
     "slide_type": "fragment"
    }
   },
   "source": [
    "![](images/largepreview1.png)"
   ]
  },
  {
   "cell_type": "markdown",
   "metadata": {
    "slideshow": {
     "slide_type": "slide"
    }
   },
   "source": [
    "# Let's go back to the properties of small-worlds"
   ]
  },
  {
   "cell_type": "markdown",
   "metadata": {
    "slideshow": {
     "slide_type": "subslide"
    }
   },
   "source": [
    "# Can we make up a simple model that exhibits both (many)  closed  triads,  but  also  very  short  paths? "
   ]
  },
  {
   "cell_type": "markdown",
   "metadata": {
    "slideshow": {
     "slide_type": "subslide"
    }
   },
   "source": [
    "# Small-world network modeling: The Watts-Strogatz model"
   ]
  },
  {
   "cell_type": "markdown",
   "metadata": {
    "cell_style": "split",
    "slideshow": {
     "slide_type": "fragment"
    }
   },
   "source": [
    "![](images/ws_1998.png)"
   ]
  },
  {
   "cell_type": "markdown",
   "metadata": {
    "cell_style": "split",
    "slideshow": {
     "slide_type": "fragment"
    }
   },
   "source": [
    "Watts and Steve argue it is possible to model networks based on the principles of:\n",
    "\n",
    "- homophily (we connect to others who are like ourselves)\n",
    "- weak ties (the links to acquaintances that connect us to parts of the network that would otherwise be far away)"
   ]
  },
  {
   "cell_type": "markdown",
   "metadata": {
    "slideshow": {
     "slide_type": "subslide"
    }
   },
   "source": [
    "# The intuition behind the Watts-Strogatz model"
   ]
  },
  {
   "cell_type": "markdown",
   "metadata": {
    "cell_style": "center",
    "slideshow": {
     "slide_type": "fragment"
    }
   },
   "source": [
    "![](grid.png)"
   ]
  },
  {
   "cell_type": "markdown",
   "metadata": {
    "cell_style": "center",
    "slideshow": {
     "slide_type": "fragment"
    }
   },
   "source": [
    "- let’s suppose that everyone lives on a two-dimensional grid\n",
    "    * we  can  imagine  the  grid  as  a  model  of  geographic  proximity,  or  potentially  some ore abstract kind of social proximity, but in any case a notion of similarity that guides the ormation of links\n",
    "\n",
    "- we now create a network by giving each node two kinds of links:\n",
    "    * those explainable purely by homophily, and \n",
    "    * those that constitute weak ties\n",
    "    \n",
    "- homophily is captured by having each node form a link to all other nodes that lie within a radius of up to $r$ grid steps away, for some constant value of $r$ ― these are the links you form to people because you are similar to them  \n",
    "- then, for some other constant value $k$, each node also forms a link to $k$ other nodes selected  uniformly  at  random  from  the  grid  —  these  correspond  to  weak  ties,  connecting nodes who lie very far apart on the grid"
   ]
  },
  {
   "cell_type": "markdown",
   "metadata": {
    "slideshow": {
     "slide_type": "subslide"
    }
   },
   "source": [
    "# Business case discussion\n",
    "\n",
    "How do small world networks impact the organization and functioning of the **Soundcloud** platform?\n",
    "\n",
    "![alt text](https://ksassets.timeincuk.net/wp/uploads/sites/55/2016/06/soundcloudlogo110211-1.jpg)"
   ]
  },
  {
   "cell_type": "markdown",
   "metadata": {
    "cell_style": "center",
    "slideshow": {
     "slide_type": "fragment"
    }
   },
   "source": [
    "# Business case discussion\n",
    "\n",
    "![](framework.png)\n",
    "\n",
    "Source: Santoni, Stark, & Ferriani (2017)"
   ]
  },
  {
   "cell_type": "markdown",
   "metadata": {
    "slideshow": {
     "slide_type": "slide"
    }
   },
   "source": [
    "# Communities in networks"
   ]
  },
  {
   "cell_type": "markdown",
   "metadata": {
    "slideshow": {
     "slide_type": "subslide"
    }
   },
   "source": [
    "# The case of Belgium: Stylized observations\n",
    "\n",
    "- Belgium appears to be the model bicultural society: 59% of its citizens are Flemish, speaking Dutch and 40% are Walloons who speak French\n",
    "- As multiethnic countries break up all over the world, we must ask:\n",
    "    - How did this country foster the peaceful coexistence of these two ethnic groups since 1830? \n",
    "    - Is Belgium a densely knitted society, where it does not matter if one is Flemish or Walloon? \n",
    "    - Or we have two nations within the same borders, that learned to minimize contact with each other? "
   ]
  },
  {
   "cell_type": "markdown",
   "metadata": {
    "slideshow": {
     "slide_type": "subslide"
    }
   },
   "source": [
    "# Evidence from a phone call pattern study\n",
    "\n",
    "![](images/figure-9-1.jpg)\n",
    "\n",
    "---\n",
    "**Notes:** node represent communities; the size of each node is proportional to the size of the community (counts of individuals); nodes' color reflect spoken language.\n",
    "\n",
    "**Source:** Blondell et al. 2007"
   ]
  },
  {
   "cell_type": "markdown",
   "metadata": {
    "slideshow": {
     "slide_type": "subslide"
    }
   },
   "source": [
    "# Definition of community\n",
    "\n",
    "In network science we call a community a group of nodes that have a higher likelihood of connecting to each other than to nodes from other communities."
   ]
  },
  {
   "cell_type": "markdown",
   "metadata": {
    "slideshow": {
     "slide_type": "subslide"
    }
   },
   "source": [
    "# Example of community: Zachary's karate club study"
   ]
  },
  {
   "cell_type": "markdown",
   "metadata": {
    "cell_style": "split",
    "slideshow": {
     "slide_type": "fragment"
    }
   },
   "source": [
    "![](images/figure-9-2.jpg)"
   ]
  },
  {
   "cell_type": "markdown",
   "metadata": {
    "cell_style": "split",
    "slideshow": {
     "slide_type": "fragment"
    }
   },
   "source": [
    "- N = 34\n",
    "- 78 pairwise links between members who regularly interacted outside the club\n",
    "- the conflict between the club's president and the instructor split the club into two."
   ]
  },
  {
   "cell_type": "markdown",
   "metadata": {
    "slideshow": {
     "slide_type": "subslide"
    }
   },
   "source": [
    "# Basics of Communities\n",
    "\n",
    "- what do we really mean by a community?\n",
    "- how many communities are in a network? \n",
    "- how many different ways can we partition a network into communities?"
   ]
  },
  {
   "cell_type": "markdown",
   "metadata": {
    "slideshow": {
     "slide_type": "subslide"
    }
   },
   "source": [
    "# Key structural properties of communities"
   ]
  },
  {
   "cell_type": "markdown",
   "metadata": {
    "cell_style": "split",
    "slideshow": {
     "slide_type": "fragment"
    }
   },
   "source": [
    "![](images/figure-9-4.jpg)"
   ]
  },
  {
   "cell_type": "markdown",
   "metadata": {
    "cell_style": "split",
    "slideshow": {
     "slide_type": "fragment"
    }
   },
   "source": [
    "- **Connectedness:** Each community corresponds to a connected subgraph\n",
    "\n",
    "- **Density Hypothesis**: Nodes in a community are more likely to connect to other members of the same community than to nodes in other communities"
   ]
  },
  {
   "cell_type": "markdown",
   "metadata": {
    "cell_style": "center",
    "slideshow": {
     "slide_type": "subslide"
    }
   },
   "source": [
    "# Forms of communities\n",
    "\n",
    "**Strong community:** $C$ is a **strong community** if each node within C has more links within the community than with the rest of the graph [15,16]. Specifically, a subgraph C forms a strong community if for each node $i$ $\\in$ $C$\n",
    "\n",
    "\\begin{equation}\n",
    "k_{int}^{i}(C) > k_{ext}{i}(C)\n",
    "\\end{equation}\n",
    "\n",
    "**Weak Community:** C is a weak community if the total internal degree of a subgraph exceeds its total external degree. Specifically, a subgraph C forms a weak community if\n",
    "\n",
    "\\begin{equation}\n",
    "\\sum_{i \\in C} k_{int}^{i}(C) > \\sum_{i \\in C} k_{ext}^{i}(C)\n",
    "\\end{equation}"
   ]
  },
  {
   "cell_type": "markdown",
   "metadata": {
    "slideshow": {
     "slide_type": "subslide"
    }
   },
   "source": [
    "# Forms of communities, example\n",
    "\n",
    "![](images/figure-9-5.jpg)\n",
    "\n",
    "---\n",
    "**Notes:** a) clique; b) strong community; c) weak community. "
   ]
  },
  {
   "cell_type": "markdown",
   "metadata": {
    "slideshow": {
     "slide_type": "slide"
    }
   },
   "source": [
    "# How do we identifiy communities in networks?"
   ]
  },
  {
   "cell_type": "markdown",
   "metadata": {
    "slideshow": {
     "slide_type": "slide"
    }
   },
   "source": [
    "- agglomerative procedure (hierarchical clustering)\n",
    "- divisive procedure"
   ]
  },
  {
   "cell_type": "markdown",
   "metadata": {
    "slideshow": {
     "slide_type": "subslide"
    }
   },
   "source": [
    "# Ravasz agglomerative procedure"
   ]
  },
  {
   "cell_type": "markdown",
   "metadata": {
    "cell_style": "center",
    "slideshow": {
     "slide_type": "fragment"
    }
   },
   "source": [
    "- **step 1:** define the similarity matrix<sup>[1]</sup>\n",
    "- **step 2:** decide group similarity\n",
    "- **step 3:** apply hierarchical clustering\n",
    "- **step 4:** make dendrogram\n",
    "- **setp 5:** cut-off\n",
    "\n",
    "---\n",
    "[1] \\begin{equation}\n",
    "x_{ij}^{0} = \\frac{J(i, j)}{min(k_{i}, k_{j}) + 1 - \\phi{A_{ij}}}\n",
    "\\end{equation}"
   ]
  },
  {
   "cell_type": "markdown",
   "metadata": {
    "cell_style": "center",
    "slideshow": {
     "slide_type": "fragment"
    }
   },
   "source": [
    "![](images/figure-9-9.jpg)"
   ]
  },
  {
   "cell_type": "markdown",
   "metadata": {
    "slideshow": {
     "slide_type": "subslide"
    }
   },
   "source": [
    "# Girvan-Newman divisive procedure"
   ]
  },
  {
   "cell_type": "markdown",
   "metadata": {
    "slideshow": {
     "slide_type": "fragment"
    }
   },
   "source": [
    "- **step 1:** compute the centrality $x_{ij}$ of each link.\n",
    "- **step 2:** remove the link with the largest centrality\n",
    "- **step 3:** recalculate the centrality of each link for the altered network.\n",
    "- **step 4:** iterate over steps 2 and 3 until all links are removed.\n",
    "\n",
    "---\n",
    "Notes: a good candidate of centrality is 'link betweenness', which captures the role of each link in information transfer. Hence $x_{ij}$ is proportional to the number of shortest paths between all node pairs that run along the link $(i,j)$."
   ]
  },
  {
   "cell_type": "markdown",
   "metadata": {
    "slideshow": {
     "slide_type": "fragment"
    }
   },
   "source": [
    "![](images/figure-9-12.jpg)\n",
    "\n",
    "---\n",
    "Notes: f) illustrates the modularity function ― stop deleting edges when $n = n^{*}$"
   ]
  }
 ],
 "metadata": {
  "celltoolbar": "Slideshow",
  "kernelspec": {
   "display_name": "Python 3",
   "language": "python",
   "name": "python3"
  },
  "language_info": {
   "codemirror_mode": {
    "name": "ipython",
    "version": 3
   },
   "file_extension": ".py",
   "mimetype": "text/x-python",
   "name": "python",
   "nbconvert_exporter": "python",
   "pygments_lexer": "ipython3",
   "version": "3.7.4"
  },
  "latex_envs": {
   "LaTeX_envs_menu_present": true,
   "autoclose": false,
   "autocomplete": true,
   "bibliofile": "biblio.bib",
   "cite_by": "apalike",
   "current_citInitial": 1,
   "eqLabelWithNumbers": true,
   "eqNumInitial": 1,
   "hotkeys": {
    "equation": "Ctrl-E",
    "itemize": "Ctrl-I"
   },
   "labels_anchors": false,
   "latex_user_defs": false,
   "report_style_numbering": false,
   "user_envs_cfg": false
  },
  "toc": {
   "base_numbering": 1,
   "nav_menu": {},
   "number_sections": false,
   "sideBar": true,
   "skip_h1_title": false,
   "title_cell": "Table of Contents",
   "title_sidebar": "Contents",
   "toc_cell": false,
   "toc_position": {},
   "toc_section_display": true,
   "toc_window_display": false
  },
  "varInspector": {
   "cols": {
    "lenName": 16,
    "lenType": 16,
    "lenVar": 40
   },
   "kernels_config": {
    "python": {
     "delete_cmd_postfix": "",
     "delete_cmd_prefix": "del ",
     "library": "var_list.py",
     "varRefreshCmd": "print(var_dic_list())"
    },
    "r": {
     "delete_cmd_postfix": ") ",
     "delete_cmd_prefix": "rm(",
     "library": "var_list.r",
     "varRefreshCmd": "cat(var_dic_list()) "
    }
   },
   "types_to_exclude": [
    "module",
    "function",
    "builtin_function_or_method",
    "instance",
    "_Feature"
   ],
   "window_display": false
  }
 },
 "nbformat": 4,
 "nbformat_minor": 2
}
