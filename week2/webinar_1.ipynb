{
  "cells": [
    {
      "cell_type": "markdown",
      "source": [
        "\n",
        "# Agenda\n",
        "\n",
        " - familiarizing with the NetworkX library\n",
        " - initializing a NetworkX Graph object\n",
        "   + one-mode network\n",
        "     * undirected, unweighted network\n",
        "     * directed, unweighted network\n",
        "     * undirected, weighted network\n",
        "     * directed, weighted network\n",
        "   + two mode network\n",
        "     * testing the network is bipartite\n",
        " - initializing a NetworkX Graph object using diverse Python objects\n",
        "   + ... NumPy\n",
        "   + ... Pandas\n",
        "   + ... lists\n",
        "   + ... SciPy\n",
        " - iterating over a graph's vertices and edge\n",
        " - computing node centrality indicators (e.g., degree)\n",
        " - computing the average degree of a network\n",
        " - computing the degree distribution of a network\n",
        "\n"
      ],
      "metadata": {
        "nteract": {
          "transient": {
            "deleting": false
          }
        }
      }
    }
  ],
  "metadata": {},
  "nbformat": 4,
  "nbformat_minor": 0
}