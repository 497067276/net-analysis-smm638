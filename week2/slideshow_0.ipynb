{
 "cells": [
  {
   "cell_type": "markdown",
   "metadata": {
    "slideshow": {
     "slide_type": "slide"
    }
   },
   "source": [
    "# Network analytics ― week 2\n",
    "\n",
    "![](images/colors.png)"
   ]
  },
  {
   "cell_type": "markdown",
   "metadata": {},
   "source": [
    "# Setup"
   ]
  },
  {
   "cell_type": "code",
   "execution_count": 17,
   "metadata": {
    "ExecuteTime": {
     "end_time": "2018-10-10T15:48:39.748946Z",
     "start_time": "2018-10-10T15:48:39.744820Z"
    },
    "slideshow": {
     "slide_type": "skip"
    }
   },
   "outputs": [],
   "source": [
    "import matplotlib.pyplot as plt\n",
    "import matplotlib as mpl\n",
    "import pylab\n",
    "import numpy as np\n",
    "import pandas as pd\n",
    "import networkx as nx"
   ]
  },
  {
   "cell_type": "markdown",
   "metadata": {
    "slideshow": {
     "slide_type": "slide"
    }
   },
   "source": [
    "# Agenda\n",
    "\n",
    "* week 1 wrap-up\n",
    "     - key concepts\n",
    "     - case discussion: Soundcloud    \n",
    "* network theory\n",
    "    - strong ties and closure mechanisms\n",
    "    - weak ties and brokerage mechanisms\n",
    "    - strong and weak ties: friends or foes?\n",
    "* network models and metrics\n",
    "    - degree\n",
    "    - degree distribution\n",
    "    - paths\n",
    "    - connectivity\n",
    "* laboratory"
   ]
  },
  {
   "cell_type": "markdown",
   "metadata": {
    "slideshow": {
     "slide_type": "slide"
    }
   },
   "source": [
    "# Week 1 wrap-up"
   ]
  },
  {
   "cell_type": "markdown",
   "metadata": {
    "slideshow": {
     "slide_type": "slide"
    }
   },
   "source": [
    "# Key concepts"
   ]
  },
  {
   "cell_type": "markdown",
   "metadata": {
    "slideshow": {
     "slide_type": "fragment"
    }
   },
   "source": [
    "* Network are made-up of **nodes** and **ties** that are kept together by substantive **relations** "
   ]
  },
  {
   "cell_type": "markdown",
   "metadata": {
    "slideshow": {
     "slide_type": "fragment"
    }
   },
   "source": [
    "* In other words, networks are more than graphs $\\{V, E\\}$  as mathematical objects"
   ]
  },
  {
   "cell_type": "markdown",
   "metadata": {
    "slideshow": {
     "slide_type": "slide"
    }
   },
   "source": [
    "# Forms of networks\n",
    "\n",
    "Networks can take several, non-exclusive forms:"
   ]
  },
  {
   "cell_type": "markdown",
   "metadata": {
    "slideshow": {
     "slide_type": "fragment"
    }
   },
   "source": [
    "* directed Vs undirected"
   ]
  },
  {
   "cell_type": "markdown",
   "metadata": {
    "slideshow": {
     "slide_type": "fragment"
    }
   },
   "source": [
    "* weighted Vs unweighted"
   ]
  },
  {
   "cell_type": "markdown",
   "metadata": {
    "slideshow": {
     "slide_type": "fragment"
    }
   },
   "source": [
    "* one-mode Vs 2-mode (also called bipartite or affiliation networks)"
   ]
  },
  {
   "cell_type": "markdown",
   "metadata": {
    "slideshow": {
     "slide_type": "subslide"
    }
   },
   "source": [
    "# Network representations\n",
    "\n",
    "##  One-mode, undirected, unweighted graph"
   ]
  },
  {
   "cell_type": "markdown",
   "metadata": {
    "cell_style": "center",
    "slideshow": {
     "slide_type": "fragment"
    }
   },
   "source": [
    "Adjacency matrix\n",
    "\n",
    "$\n",
    "A_{i,j} = \n",
    " \\begin{pmatrix}\n",
    "  0 & 1 & 0 & 1 \\\\\n",
    "  1 & 0 & 0 & 1 \\\\\n",
    "  0 & 0 & 0 & 1 \\\\\n",
    "  1 & 1 & 1 & 0 \\\\\n",
    " \\end{pmatrix}\n",
    " $"
   ]
  },
  {
   "cell_type": "code",
   "execution_count": 18,
   "metadata": {
    "ExecuteTime": {
     "end_time": "2018-10-10T15:48:41.009939Z",
     "start_time": "2018-10-10T15:48:40.914721Z"
    },
    "cell_style": "center",
    "hide_input": true
   },
   "outputs": [
    {
     "data": {
      "image/png": "[encoded data removed]",
      "text/plain": [
       "<Figure size 432x288 with 1 Axes>"
      ]
     },
     "metadata": {},
     "output_type": "display_data"
    }
   ],
   "source": [
    "# initialize a new graph object\n",
    "G = nx.Graph()\n",
    "\n",
    "# define the set of nodes\n",
    "node_list = [0, 1, 2, 3]\n",
    "\n",
    "# populate the graph with nodes\n",
    "G.add_nodes_from(node_list)\n",
    "\n",
    "# define the set of edges\n",
    "edge_list = [(0, 1), (0, 3), (1, 3), (2, 3)]\n",
    "\n",
    "# populate the graph with edges\n",
    "G.add_edges_from(edge_list)\n",
    "\n",
    "# fix the drawing options\n",
    "options = {'node_color': 'purple',\n",
    "           'alpha': 1,\n",
    "           'node_size': 1500,\n",
    "           'width': 1,\n",
    "           'with_labels': True,\n",
    "           'font_size': 32,\n",
    "           'font_color': 'white'}\n",
    "\n",
    "# draw the network\n",
    "nx.draw(G, **options)\n",
    "\n",
    "# add  title to the network\n",
    "plt.title('Visual representation', fontsize=32)\n",
    "\n",
    "# show the plot\n",
    "plt.show()"
   ]
  },
  {
   "cell_type": "markdown",
   "metadata": {
    "slideshow": {
     "slide_type": "subslide"
    }
   },
   "source": [
    "# Network representations\n",
    "\n",
    "##  One-mode, directed, unweighted graph"
   ]
  },
  {
   "cell_type": "markdown",
   "metadata": {
    "cell_style": "center",
    "hide_input": true,
    "slideshow": {
     "slide_type": "fragment"
    }
   },
   "source": [
    "Adjacency matrix\n",
    "\n",
    "$\n",
    "A_{i,j} = \n",
    " \\begin{pmatrix}\n",
    "  0 & 1 & 1 & 0 \\\\\n",
    "  1 & 0 & 0 & 0 \\\\\n",
    "  1 & 1 & 0 & 1 \\\\\n",
    "  1 & 1 & 1 & 0 \\\\\n",
    " \\end{pmatrix}\n",
    " $"
   ]
  },
  {
   "cell_type": "code",
   "execution_count": 19,
   "metadata": {
    "ExecuteTime": {
     "end_time": "2018-10-10T15:48:41.256377Z",
     "start_time": "2018-10-10T15:48:41.114369Z"
    },
    "cell_style": "center",
    "hide_input": true,
    "slideshow": {
     "slide_type": "fragment"
    }
   },
   "outputs": [
    {
     "data": {
      "image/png": "[encoded data removed]",
      "text/plain": [
       "<Figure size 432x288 with 1 Axes>"
      ]
     },
     "metadata": {},
     "output_type": "display_data"
    }
   ],
   "source": [
    "# initialize the graph\n",
    "G = nx.DiGraph()\n",
    "\n",
    "# define the set of nodes\n",
    "node_list = [0, 1, 2, 3]\n",
    "\n",
    "# populate the graph with nodes\n",
    "G.add_nodes_from(node_list)\n",
    "\n",
    "# define the set of edges\n",
    "edge_list = [(0, 1), (0, 2), (1, 0),\n",
    "             (2, 0), (2, 1), (2, 3),\n",
    "             (3, 0), (3, 1), (3, 2)]\n",
    "\n",
    "# popu;ate the graph with edges\n",
    "G.add_edges_from(edge_list)\n",
    "\n",
    "# fix drawing options\n",
    "options = {'node_color': 'orange',\n",
    "           'alpha': 1,\n",
    "           'node_size': 1500,\n",
    "           'width': 1,\n",
    "           'arrowstyle': '-|>',\n",
    "           'arrowsize': 32,\n",
    "           'with_labels': True,\n",
    "           'font_size': 32,\n",
    "           'font_color': 'black'}\n",
    "\n",
    "# draw the graph\n",
    "nx.draw(G, **options)\n",
    "\n",
    "# title\n",
    "plt.title('Visual representation', fontsize=32)\n",
    "\n",
    "# show the plot\n",
    "plt.show()"
   ]
  },
  {
   "cell_type": "markdown",
   "metadata": {
    "slideshow": {
     "slide_type": "subslide"
    }
   },
   "source": [
    "# Network representations\n",
    "\n",
    "##  One-mode, undirected, weighted graph"
   ]
  },
  {
   "cell_type": "markdown",
   "metadata": {
    "cell_style": "center",
    "hide_input": true,
    "slideshow": {
     "slide_type": "fragment"
    }
   },
   "source": [
    "Adjacency matrix\n",
    "\n",
    "$\n",
    "A_{i,j} = \n",
    " \\begin{pmatrix}\n",
    "  0 & 3 & 0 & 2 \\\\\n",
    "  3 & 0 & 1 & 0 \\\\\n",
    "  0 & 1 & 0 & 3 \\\\\n",
    "  2 & 0 & 3 & 0 \\\\\n",
    " \\end{pmatrix}\n",
    " $"
   ]
  },
  {
   "cell_type": "code",
   "execution_count": 20,
   "metadata": {
    "ExecuteTime": {
     "end_time": "2018-10-10T15:48:41.388679Z",
     "start_time": "2018-10-10T15:48:41.285839Z"
    },
    "cell_style": "center",
    "hide_input": true,
    "slideshow": {
     "slide_type": "fragment"
    }
   },
   "outputs": [
    {
     "data": {
      "image/png": "[encoded data removed]",
      "text/plain": [
       "<Figure size 432x288 with 1 Axes>"
      ]
     },
     "metadata": {},
     "output_type": "display_data"
    }
   ],
   "source": [
    "# initialize the graph\n",
    "G = nx.Graph()\n",
    "\n",
    "# define the set of nodes\n",
    "node_list = [0, 1, 2, 3]\n",
    "\n",
    "# populate the graph with nodes\n",
    "G.add_nodes_from(node_list)\n",
    "\n",
    "# define the set of edges\n",
    "edge_list = [(0, 1, {'w': 3}),\n",
    "             (0, 3, {'w': 2}),\n",
    "             (1, 2, {'w': 1}),\n",
    "             (2, 3, {'w': 3})]\n",
    "\n",
    "# populate the graph with edges\n",
    "G.add_edges_from(edge_list)\n",
    "\n",
    "# define labels \n",
    "edge_labels=dict([((u,v,),d['w']) for u,v,d in G.edges(data=True)])\n",
    "\n",
    "# fix drawing options\n",
    "options = {'node_color': 'green',\n",
    "           'alpha': 1,\n",
    "           'node_size': 1500,\n",
    "           'width': 1,\n",
    "           'with_labels': True,\n",
    "           'font_size': 32,\n",
    "           'font_color': 'white'}\n",
    "\n",
    "# fix the position of the nodes to improve readability\n",
    "pos=nx.spring_layout(G)\n",
    "\n",
    "# draw the network\n",
    "nx.draw_networkx_edge_labels(G, pos, edge_labels = edge_labels, font_size=32)\n",
    "nx.draw(G, pos, **options)\n",
    "\n",
    "# title of the plot\n",
    "plt.title('Visual representation', fontsize=32)\n",
    "\n",
    "# show the network\n",
    "pylab.show()"
   ]
  },
  {
   "cell_type": "markdown",
   "metadata": {
    "slideshow": {
     "slide_type": "subslide"
    }
   },
   "source": [
    "# Network representations\n",
    "\n",
    "##  One-mode, directed, weighted graph"
   ]
  },
  {
   "cell_type": "code",
   "execution_count": 10,
   "metadata": {},
   "outputs": [
    {
     "data": {
      "image/png": "[encoded data removed]",
      "text/plain": [
       "<Figure size 576x576 with 2 Axes>"
      ]
     },
     "metadata": {
      "needs_background": "light"
     },
     "output_type": "display_data"
    }
   ],
   "source": [
    "# generate a directed, k-out network\n",
    "G = nx.generators.directed.random_k_out_graph(10, 3, 0.5)\n",
    "\n",
    "# fix the position of nodes\n",
    "pos = nx.layout.spring_layout(G)\n",
    "\n",
    "# create figure\n",
    "fig = plt.figure(figsize=(8, 8))\n",
    "\n",
    "# fix the size of nodes (optional)\n",
    "# node_sizes = [3 + 10 * i for i in range(len(G))]\n",
    "\n",
    "# make the color of ties proportional to 'dyadic rivalry'\n",
    "M = G.number_of_edges()\n",
    "edge_colors = range(2, M + 2)\n",
    "\n",
    "# fix transparency to avoid overplotting\n",
    "edge_alphas = [(5 + i) / (M + 4) for i in range(M)]\n",
    "\n",
    "# draw nodes\n",
    "nodes = nx.draw_networkx_nodes(G, pos, node_color='#afb5bc')\n",
    "\n",
    "# draw arrows\n",
    "edges = nx.draw_networkx_edges(G, pos, rrowstyle='->',\n",
    "                               arrowsize=25, edge_color=edge_colors,\n",
    "                               edge_cmap=plt.cm.rainbow, width=2)\n",
    "# set alpha value for each edge\n",
    "for i in range(M):\n",
    "    edges[i].set_alpha(edge_alphas[i])\n",
    "\n",
    "pc = mpl.collections.PatchCollection(edges, cmap=plt.cm.rainbow)\n",
    "pc.set_array(edge_colors)\n",
    "\n",
    "plt.colorbar(pc)\n",
    "\n",
    "plt.title(\"Rivalry network\\n(the color of ties reflects rivalry intensity)\", fontsize=24)\n",
    "\n",
    "ax = plt.gca()\n",
    "ax.set_axis_off()\n",
    "plt.show()"
   ]
  },
  {
   "cell_type": "markdown",
   "metadata": {
    "slideshow": {
     "slide_type": "subslide"
    }
   },
   "source": [
    "# Network representations\n",
    "\n",
    "##  Two-mode, undirected, unweighted graph"
   ]
  },
  {
   "cell_type": "markdown",
   "metadata": {
    "cell_style": "center",
    "hide_input": true,
    "slideshow": {
     "slide_type": "fragment"
    }
   },
   "source": [
    "Incidence matrix\n",
    "\n",
    "$\n",
    "I_{i,j} = \n",
    " \\begin{pmatrix}\n",
    "  1 & 0 & 0 & 0 \\\\\n",
    "  0 & 1 & 0 & 0 \\\\\n",
    "  0 & 1 & 1 & 1 \\\\\n",
    " \\end{pmatrix}\n",
    " $"
   ]
  },
  {
   "cell_type": "code",
   "execution_count": 14,
   "metadata": {
    "ExecuteTime": {
     "end_time": "2018-10-10T15:48:41.678883Z",
     "start_time": "2018-10-10T15:48:41.566780Z"
    },
    "cell_style": "center",
    "hide_input": true,
    "scrolled": true,
    "slideshow": {
     "slide_type": "fragment"
    }
   },
   "outputs": [
    {
     "data": {
      "image/png": "[encoded data removed]",
      "text/plain": [
       "<Figure size 432x288 with 1 Axes>"
      ]
     },
     "metadata": {},
     "output_type": "display_data"
    }
   ],
   "source": [
    "# fake consumption network\n",
    "df = pd.DataFrame({'user': [0, 1, 2, 2], 'song': ['a', 'b', 'c', 'd']})\n",
    "\n",
    "# initialize graph\n",
    "B = nx.Graph()\n",
    "\n",
    "# add user nodes\n",
    "B.add_nodes_from(df['user'], bipartite=0)\n",
    "\n",
    "# add song/product nodes\n",
    "B.add_nodes_from(df['song'], bipartite=1)\n",
    "B.add_edges_from([(0, 'a'), (1, 'b'), (2, 'c'), (2, 'd')])\n",
    "\n",
    "# fix positions for user nodes\n",
    "pos = {node: [0, i] for i, node in enumerate(df['user'])}\n",
    "\n",
    "# fix positions for song/product nodes\n",
    "pos.update({node: [1, i] for i, node in enumerate(df['song'])})\n",
    "\n",
    "# draw the network - user nodes\n",
    "nx.draw(B,\n",
    "        pos,\n",
    "        nodelist=[0, 1, 2, 2],\n",
    "        node_color='#f4d142',\n",
    "        with_labels=True,\n",
    "        node_size=1500,\n",
    "        font_size=24)\n",
    "\n",
    "# draw the network - song/product nodes\n",
    "nx.draw(B,\n",
    "        pos,\n",
    "        nodelist=['a', 'b', 'c', 'd'],\n",
    "        node_color='#77afea',\n",
    "        node_shape='s',\n",
    "        with_labels=True,\n",
    "        node_size=1500,\n",
    "        font_size=24)\n",
    "\n",
    "# title of the plot\n",
    "plt.title(\"Visual representation\", fontsize=24)\n",
    "\n",
    "# show the plot\n",
    "plt.show()"
   ]
  },
  {
   "cell_type": "markdown",
   "metadata": {
    "ExecuteTime": {
     "end_time": "2018-10-03T15:30:26.068372Z",
     "start_time": "2018-10-03T15:30:22.779061Z"
    },
    "cell_style": "center",
    "slideshow": {
     "slide_type": "slide"
    }
   },
   "source": [
    "# Business case discussion\n",
    "\n",
    "How do networks intersect with the **Soundcloud** platform?\n",
    "\n",
    "![](https://ksassets.timeincuk.net/wp/uploads/sites/55/2016/06/soundcloudlogo110211-1.jpg)"
   ]
  },
  {
   "cell_type": "markdown",
   "metadata": {
    "slideshow": {
     "slide_type": "subslide"
    }
   },
   "source": [
    "# Business case discussion\n",
    "\n",
    "![alt text](framework.png)\n",
    "\n",
    "Source: Santoni, Stark, & Ferriani (2017)"
   ]
  },
  {
   "cell_type": "markdown",
   "metadata": {},
   "source": [
    "# Week 2 program"
   ]
  },
  {
   "cell_type": "markdown",
   "metadata": {
    "slideshow": {
     "slide_type": "slide"
    }
   },
   "source": [
    "# Two fundamental questions about networks \n",
    "\n",
    "* How can we use networks as a method to get a closer appreciation of complex phenomena?\n",
    "* How do networks matter for the organization and functioning of social systems?"
   ]
  },
  {
   "cell_type": "markdown",
   "metadata": {
    "slideshow": {
     "slide_type": "slide"
    }
   },
   "source": [
    "# Fields embracing the 'network-as-a-method' approach\n",
    "\n",
    "## Neuroscience\n",
    "\n",
    "![](images/nature.jpg)"
   ]
  },
  {
   "cell_type": "markdown",
   "metadata": {},
   "source": [
    "# Fields embracing the 'network-as-a-method' approach\n",
    "\n",
    "## Genetics\n",
    "\n",
    "![](images/genetics.jpg)"
   ]
  },
  {
   "cell_type": "markdown",
   "metadata": {
    "slideshow": {
     "slide_type": "slide"
    }
   },
   "source": [
    "# Fields embracing the 'network-as-a-method' approach\n",
    "\n",
    "## Complex systems\n",
    "\n",
    "![](images/complexity.gif)"
   ]
  },
  {
   "cell_type": "markdown",
   "metadata": {
    "slideshow": {
     "slide_type": "slide"
    }
   },
   "source": [
    "# Fields embracing the network theory perspective\n",
    "\n",
    "## Economic sociology\n",
    "\n",
    "How do networks influence the organization and functioning of markets?"
   ]
  },
  {
   "cell_type": "markdown",
   "metadata": {
    "slideshow": {
     "slide_type": "subslide"
    }
   },
   "source": [
    "# Fields embracing the network theory perspective\n",
    "\n",
    "## Economic sociology ― Mark Granovetter\n",
    "\n",
    "\n",
    "![](images/granovetter.jpg)\n",
    "\n",
    "Granovetter's core messages:\n",
    "\n",
    "+ The economic action is embedded into social structures\n",
    "+ Economic and social exchange are note analytically distinct phenomena"
   ]
  },
  {
   "cell_type": "markdown",
   "metadata": {
    "slideshow": {
     "slide_type": "subslide"
    }
   },
   "source": [
    "# Overview of the sociology of markets readings\n",
    "\n",
    "## (mandatory reading)\n",
    "\n",
    "![](images/fourcade.png)"
   ]
  },
  {
   "cell_type": "markdown",
   "metadata": {
    "slideshow": {
     "slide_type": "subslide"
    }
   },
   "source": [
    "# Example: How do networks notions help us in analysing clusters and industrial districts?\n",
    "\n",
    "Key features of clusters/[industrial districts](https://en.wikipedia.org/wiki/Industrial_district):\n",
    "    \n",
    "* spatial concentration of a large number of firms operating in a same industry\n",
    "* firm size is small or very small (just a few employees)\n",
    "* absence of leading, prominent companies\n",
    "* firms have specialized knowledge\n",
    "* the value chain develops across the boundaries of a vast number of different organizations\n",
    "\n",
    "Why do firms belonging to these spatial agglomerations remain so small? Why don't they internalize some activities? Isn't coordination of economic activities too complex/costly to carry-out at the network level? Is there any alternative form of labor division that is more efficient?"
   ]
  },
  {
   "cell_type": "markdown",
   "metadata": {
    "slideshow": {
     "slide_type": "subslide"
    }
   },
   "source": [
    "# Economic and social interactions go hand-in-hand"
   ]
  },
  {
   "cell_type": "markdown",
   "metadata": {
    "cell_style": "split",
    "slideshow": {
     "slide_type": "fragment"
    }
   },
   "source": [
    "Economic fabric\n",
    "\n",
    "![alt text](http://www.tvprato.it/wp-content/uploads/2014/04/macrolotto-0.png)"
   ]
  },
  {
   "cell_type": "markdown",
   "metadata": {
    "cell_style": "split",
    "slideshow": {
     "slide_type": "fragment"
    }
   },
   "source": [
    "Social fabric\n",
    "\n",
    "![alt text](http://1.bp.blogspot.com/-aZzvMADj9sQ/T6_7GR1z_JI/AAAAAAAAALk/ePTqDT3l_Qc/s1600/Mescolare+carte.jpg)"
   ]
  },
  {
   "cell_type": "markdown",
   "metadata": {
    "slideshow": {
     "slide_type": "slide"
    }
   },
   "source": [
    "# Network theories in economic sociology"
   ]
  },
  {
   "cell_type": "markdown",
   "metadata": {
    "slideshow": {
     "slide_type": "fragment"
    }
   },
   "source": [
    "How do networks bring value to actors and societies?"
   ]
  },
  {
   "cell_type": "markdown",
   "metadata": {
    "slideshow": {
     "slide_type": "fragment"
    }
   },
   "source": [
    "* Strong ties and closure mechanisms"
   ]
  },
  {
   "cell_type": "markdown",
   "metadata": {
    "slideshow": {
     "slide_type": "fragment"
    }
   },
   "source": [
    "* Weak ties and brokerage mechanisms"
   ]
  },
  {
   "cell_type": "markdown",
   "metadata": {
    "slideshow": {
     "slide_type": "slide"
    }
   },
   "source": [
    "# Overview of network theory\n",
    "\n",
    "## (suggested reading)\n",
    "\n",
    "![](images/scott_carrington.jpg)\n",
    "\n",
    "Relevant chapter: Part I, Chapter 3 (by Borgatti & Lopez-Kidwell)"
   ]
  },
  {
   "cell_type": "markdown",
   "metadata": {
    "slideshow": {
     "slide_type": "slide"
    }
   },
   "source": [
    "# Strong ties\n",
    "\n",
    "Key features of strong ties\n",
    "\n",
    "* Structural features:\n",
    "    + Dense, redundant ties develop among actors\n",
    "    + Frequent, repeated interactions\n",
    "* Cultural features:\n",
    "    + Common values and norms\n",
    "    + Shared cognitive schemas\n",
    "    + Ties tend to imply emotional involvement\n",
    "* Associated mechanism:\n",
    "    + Closure\n",
    "* Outcomes:\n",
    "    + Information diffusion\n",
    "    + Resource access\n",
    "    + Knowledge transfer\n",
    "    + Reciprocity\n",
    "    + Trust\n",
    "    + Reliability\n",
    "    + Coordination\n",
    "    + Tight monitoring"
   ]
  },
  {
   "cell_type": "markdown",
   "metadata": {
    "slideshow": {
     "slide_type": "slide"
    }
   },
   "source": [
    "# Strong ties in the economy: Silicon Valley\n",
    "\n",
    "![](images/silicon_valley.jpg)\n"
   ]
  },
  {
   "cell_type": "markdown",
   "metadata": {
    "heading_collapsed": true,
    "slideshow": {
     "slide_type": "slide"
    }
   },
   "source": [
    "# Weak ties\n",
    "\n",
    "Key features of strong ties\n",
    "\n",
    "* Structural features:\n",
    "    + On of few bridging ties linking otherwise disconnected components\n",
    "    + Dense, redundant ties develop among actors within components\n",
    "    + Frequent, repeated interactions within components\n",
    "* Cultural features:\n",
    "    + Within-component commonality of values and norms\n",
    "    + Shared cognitive schemas within individual  components\n",
    "    + Ties tend to imply emotional involvement within individual components\n",
    "* Associated mechanism:\n",
    "    + Brokerage\n",
    "* Outcomes:\n",
    "    + Innovation\n",
    "    + Change\n",
    "    + Entrepreneurship\n",
    "    + Knowledge recombination\n",
    "    + Arbitrage\n",
    "    + Political behavior"
   ]
  },
  {
   "cell_type": "markdown",
   "metadata": {
    "slideshow": {
     "slide_type": "slide"
    }
   },
   "source": [
    "# Weak ties in the economy: White truffles (my father's business)\n",
    "\n",
    "* Luxury good (price ~ £ 6,000 per Kilogram)\n",
    "* Informal market\n",
    "* Very dense cluster of truffle hunters who are disconnected from elite chefs and consumers\n",
    "\n",
    "![](images/white_truffles.jpg)"
   ]
  },
  {
   "cell_type": "markdown",
   "metadata": {
    "slideshow": {
     "slide_type": "slide"
    }
   },
   "source": [
    "# Structural folds: Combining strong and weak ties\n",
    "\n",
    "![](game_changer.png)"
   ]
  },
  {
   "cell_type": "markdown",
   "metadata": {
    "slideshow": {
     "slide_type": "slide"
    }
   },
   "source": [
    "# Network metrics and models"
   ]
  },
  {
   "cell_type": "markdown",
   "metadata": {
    "slideshow": {
     "slide_type": "slide"
    }
   },
   "source": [
    "# Degree"
   ]
  },
  {
   "cell_type": "markdown",
   "metadata": {
    "slideshow": {
     "slide_type": "fragment"
    }
   },
   "source": [
    "* The degree of a node, denoted as $k_{i}$ is the count of ties involving the node."
   ]
  },
  {
   "cell_type": "markdown",
   "metadata": {
    "slideshow": {
     "slide_type": "fragment"
    }
   },
   "source": [
    "* In the context of directed networks, we distinguish among:\n",
    "    - indegree, i.e. the count of ties node $i$ receives\n",
    "    - outdegree, i.e. the count of ties node $i$ sends"
   ]
  },
  {
   "cell_type": "markdown",
   "metadata": {
    "slideshow": {
     "slide_type": "slide"
    }
   },
   "source": [
    "# Average degree\n",
    "\n",
    "$\n",
    "\\langle k \\rangle = \\frac{1}{N} \\sum_{i = 1}^{N}k_{i}\n",
    "$"
   ]
  },
  {
   "cell_type": "markdown",
   "metadata": {
    "slideshow": {
     "slide_type": "slide"
    }
   },
   "source": [
    "# Degree distribution\n",
    "\n",
    "Given:\n",
    "\n",
    "$\n",
    "\\sum_{k=1}^{\\infty}p_k = 1\n",
    "$\n",
    "\n",
    "The degree distribution of a graph is:\n",
    "\n",
    "$\n",
    "p_k = \\frac{N_{k}}{N}\n",
    "$"
   ]
  },
  {
   "cell_type": "markdown",
   "metadata": {
    "slideshow": {
     "slide_type": "fragment"
    }
   },
   "source": [
    "![](images/degree_distribution.jpg)\n",
    "\n",
    "Source: Barabasi (2016)"
   ]
  },
  {
   "cell_type": "markdown",
   "metadata": {
    "slideshow": {
     "slide_type": "slide"
    }
   },
   "source": [
    "![](images/degree_distribution_1.jpg)\n",
    "\n",
    "Source: Barabasi (2016)"
   ]
  },
  {
   "cell_type": "markdown",
   "metadata": {
    "slideshow": {
     "slide_type": "slide"
    }
   },
   "source": [
    "# Paths and distances\n",
    "\n",
    "\n",
    "\n",
    "* A path between nodes is an ordered list of n links P = {(i0, i1), (i1, i2), (i2, i3), ... ,(in-1, in)}. The length of this path is n. The path shown in orange in (a) follows the route 1→2→5→7→4→6, hence its length is n = 5.\n",
    "* The shortest paths between nodes 1 and 7, or the distance d17, correspond to the path with the fewest number of links that connect nodes 1 to 7. There can be multiple paths of the same length, as illustrated by the two paths shown in orange and grey. The network diameter is the largest distance in the network, being dmax = 3 here.\n",
    "\n",
    "![](http://networksciencebook.com/images/ch-02/figure-2-12.jpg)\n",
    "\n",
    "Source: Barabasi (2016)"
   ]
  },
  {
   "cell_type": "markdown",
   "metadata": {
    "slideshow": {
     "slide_type": "slide"
    }
   },
   "source": [
    "# Average path length\n",
    "\n",
    "The average path length, denoted by $\\langle d \\rangle$, is the average distance between all pairs of nodes in the network. For a directed network of N nodes, $\\langle d \\rangle$ is:\n",
    "\n",
    "$\n",
    "d = \\frac{1}{N * (N - 1)} \\sum_{i, j = 1, N; i \\neq j} d_{i, j}\n",
    "$"
   ]
  },
  {
   "cell_type": "markdown",
   "metadata": {
    "slideshow": {
     "slide_type": "slide"
    }
   },
   "source": [
    "# Connectedness\n",
    "\n",
    "\n",
    "* A small network consisting of two disconnected components. Indeed, there is a path between any pair of nodes in the (1,2,3) component, as well in the (4,5,6,7) component. However, there are no paths between nodes that belong to the different components.\n",
    "* The right panel shows the adjacently matrix of the network. If the network has disconnected components, the adjacency matrix can be rearranged into a block diagonal form, such that all nonzero elements of the matrix are contained in square blocks along the diagonal of the matrix and all other elements are zero.\n",
    "* The addition of a single link, called a bridge, shown in grey, turns a disconnected network into a single connected component. Now there is a path between every pair of nodes in the network. Consequently the adjacency matrix cannot be written in a block diagonal form.\n",
    "\n",
    "\n",
    "![](images/connectedness.jpg)\n",
    "\n",
    "Source: Barabasi (2016)"
   ]
  },
  {
   "cell_type": "markdown",
   "metadata": {},
   "source": [
    "# Clustering\n",
    "\n",
    "$\n",
    "C_{i} = \\frac{2L_{i}}{k_{i} * (k_{i} - 1)}\n",
    "$\n",
    "\n",
    " where Li represents the number of links between the ki neighbors of node i. Note that Ci is between 0 and 1 (Image 2.16a):\n",
    "\n",
    "* Ci = 0 if none of the neighbors of node i link to each other\n",
    "* Ci = 1 if the neighbors of node i form a complete graph, i.e. they all link to each other\n",
    "* Ci is the probability that two neighbors of a node link to each other. Consequently C = 0.5 implies that there is a 50% chance that two neighbors of a node are linked\n",
    "\n",
    "\n",
    "![](images/clustering.jpg)\n",
    "\n",
    "Source: Barabasi (2016)"
   ]
  },
  {
   "cell_type": "markdown",
   "metadata": {
    "slideshow": {
     "slide_type": "slide"
    }
   },
   "source": [
    "# Cookbooks\n",
    "\n",
    "* Cookbook 1: managing network data\n",
    "* Cookbook 2: manipulating 2-mode networks with Nx\n",
    "* Cookbook 3: computing degree distribution\n",
    "* Cookbook 4: node degree"
   ]
  },
  {
   "cell_type": "code",
   "execution_count": null,
   "metadata": {},
   "outputs": [],
   "source": []
  }
 ],
 "metadata": {
  "celltoolbar": "Slideshow",
  "kernelspec": {
   "display_name": "Python 3",
   "language": "python",
   "name": "python3"
  },
  "language_info": {
   "codemirror_mode": {
    "name": "ipython",
    "version": 3
   },
   "file_extension": ".py",
   "mimetype": "text/x-python",
   "name": "python",
   "nbconvert_exporter": "python",
   "pygments_lexer": "ipython3",
   "version": "3.7.3"
  },
  "latex_envs": {
   "LaTeX_envs_menu_present": true,
   "autoclose": false,
   "autocomplete": true,
   "bibliofile": "biblio.bib",
   "cite_by": "apalike",
   "current_citInitial": 1,
   "eqLabelWithNumbers": true,
   "eqNumInitial": 1,
   "hotkeys": {
    "equation": "Ctrl-E",
    "itemize": "Ctrl-I"
   },
   "labels_anchors": false,
   "latex_user_defs": false,
   "report_style_numbering": false,
   "user_envs_cfg": false
  },
  "toc": {
   "base_numbering": 1,
   "nav_menu": {},
   "number_sections": false,
   "sideBar": true,
   "skip_h1_title": false,
   "title_cell": "Table of Contents",
   "title_sidebar": "Contents",
   "toc_cell": false,
   "toc_position": {},
   "toc_section_display": true,
   "toc_window_display": false
  },
  "varInspector": {
   "cols": {
    "lenName": 16,
    "lenType": 16,
    "lenVar": 40
   },
   "kernels_config": {
    "python": {
     "delete_cmd_postfix": "",
     "delete_cmd_prefix": "del ",
     "library": "var_list.py",
     "varRefreshCmd": "print(var_dic_list())"
    },
    "r": {
     "delete_cmd_postfix": ") ",
     "delete_cmd_prefix": "rm(",
     "library": "var_list.r",
     "varRefreshCmd": "cat(var_dic_list()) "
    }
   },
   "types_to_exclude": [
    "module",
    "function",
    "builtin_function_or_method",
    "instance",
    "_Feature"
   ],
   "window_display": false
  }
 },
 "nbformat": 4,
 "nbformat_minor": 2
}
