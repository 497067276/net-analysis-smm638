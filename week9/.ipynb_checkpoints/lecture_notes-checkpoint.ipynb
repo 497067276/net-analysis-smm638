{
 "cells": [
  {
   "cell_type": "code",
   "execution_count": 1,
   "metadata": {
    "ExecuteTime": {
     "end_time": "2018-11-14T20:29:45.543467Z",
     "start_time": "2018-11-14T20:29:45.539438Z"
    },
    "hide_input": true
   },
   "outputs": [],
   "source": [
    "from IPython.core.display import display, HTML"
   ]
  },
  {
   "cell_type": "markdown",
   "metadata": {
    "slideshow": {
     "slide_type": "slide"
    }
   },
   "source": [
    "# Network analytics ― week 9\n",
    "![](images/_0.jpg)"
   ]
  },
  {
   "cell_type": "markdown",
   "metadata": {
    "slideshow": {
     "slide_type": "slide"
    }
   },
   "source": [
    "# Agenda\n",
    "\n",
    "- network  theory\n",
    "    - cascading  behavior\n",
    "    - diffusion  in  and  through  networks\n",
    "- network  models  &  metrics\n",
    "    - spreading  phenomena\n",
    "- laboratory"
   ]
  },
  {
   "cell_type": "markdown",
   "metadata": {},
   "source": [
    "# Network theory"
   ]
  },
  {
   "cell_type": "markdown",
   "metadata": {
    "slideshow": {
     "slide_type": "slide"
    }
   },
   "source": [
    "# Diffusion in networks"
   ]
  },
  {
   "cell_type": "markdown",
   "metadata": {
    "slideshow": {
     "slide_type": "fragment"
    }
   },
   "source": [
    "- week 4 take-home $\\rightarrow$ an individual's choices depend on what other people do"
   ]
  },
  {
   "cell_type": "markdown",
   "metadata": {
    "slideshow": {
     "slide_type": "fragment"
    }
   },
   "source": [
    "- for example, we tend to infer an offering's quality from others' choices"
   ]
  },
  {
   "cell_type": "markdown",
   "metadata": {
    "slideshow": {
     "slide_type": "fragment"
    }
   },
   "source": [
    "- in digital settings, recommenders amplify the visibility of others' choices"
   ]
  },
  {
   "cell_type": "markdown",
   "metadata": {
    "slideshow": {
     "slide_type": "subslide"
    }
   },
   "source": [
    "# Example: The diffusion of innovation"
   ]
  },
  {
   "cell_type": "markdown",
   "metadata": {
    "cell_style": "split"
   },
   "source": [
    "![](images/_1.png)"
   ]
  },
  {
   "cell_type": "markdown",
   "metadata": {
    "cell_style": "split"
   },
   "source": [
    "Key results:\n",
    "\n",
    "- a physician likelihood to adopt a new drug depends on the feedback of alter physicians\n",
    "- the novelty and initial lack of understanding of the innovation made it risky to adopt, but it was ultimately highly beneficial\n",
    "- the early adopters had certain general characteristics, including higher socio-economic status"
   ]
  },
  {
   "cell_type": "markdown",
   "metadata": {
    "slideshow": {
     "slide_type": "slide"
    }
   },
   "source": [
    "# Modeling diffusion through networks"
   ]
  },
  {
   "cell_type": "markdown",
   "metadata": {
    "slideshow": {
     "slide_type": "subslide"
    }
   },
   "source": [
    "- **direct-benefit effects assumption**: you have certain social network neighbors — friends, acquaintances, or colleagues — and the benefits to you of adopting a new behavior increase as more and more of these\n",
    "neighbors adopt it"
   ]
  },
  {
   "cell_type": "markdown",
   "metadata": {
    "slideshow": {
     "slide_type": "subslide"
    }
   },
   "source": [
    "- **implication**: you should adopt a certain behavior once a sufficient proportion of your neighbors have done so:\n",
    "    - for example, you may find it easier to collaborate with co-workers if you are using compatible technologies"
   ]
  },
  {
   "cell_type": "markdown",
   "metadata": {
    "slideshow": {
     "slide_type": "subslide"
    }
   },
   "source": [
    "# A networked coordination game"
   ]
  },
  {
   "cell_type": "markdown",
   "metadata": {
    "slideshow": {
     "slide_type": "fragment"
    }
   },
   "source": [
    "-  we will study a situation in which each node has a choice between two possible behaviors, labeled $A$ and $B$"
   ]
  },
  {
   "cell_type": "markdown",
   "metadata": {
    "slideshow": {
     "slide_type": "fragment"
    }
   },
   "source": [
    "- if nodes v and w are linked by an edge, then there is an incentive for them to have their behaviors match"
   ]
  },
  {
   "cell_type": "markdown",
   "metadata": {
    "slideshow": {
     "slide_type": "fragment"
    }
   },
   "source": [
    "- if $v$ and $w$ both adopt behavior $A$, they each get a payoff of $a > 0$\n",
    "- if they both adopt $B$, they each get a payoff of $b > 0$\n",
    "- if they adopt opposite behaviors, they each get a payoff of $0$"
   ]
  },
  {
   "cell_type": "markdown",
   "metadata": {
    "slideshow": {
     "slide_type": "fragment"
    }
   },
   "source": [
    "- each node $v$ is playing a copy of this game with each of its neighbors, and its payoff is the sum of its payoffs in the games played on each edge"
   ]
  },
  {
   "cell_type": "markdown",
   "metadata": {
    "slideshow": {
     "slide_type": "subslide"
    }
   },
   "source": [
    "# Solution to the game"
   ]
  },
  {
   "cell_type": "markdown",
   "metadata": {
    "cell_style": "split",
    "slideshow": {
     "slide_type": "fragment"
    }
   },
   "source": [
    "- the basic question faced by $v$ will be the following: suppose that some of its neighbors adopt $A$, and some adopt $B$; what should $v$ do in order to maximize its payoff?\n",
    "\n",
    "- suppose that a $p$ fraction of $v$'s neighbors have behavior $A$, and a ($1 - p)$ fraction have behavior $B$\n",
    "    - if $v$ has $d$ neighbors, then $pd$ adopt $A$ and $(1 − p)d$ adopt $B$\n",
    "    - if $v$ chooses $A$, it gets a payoff of $pda$, and if it chooses $B$, it gets a payoff of $(1 − p)db$\n",
    "- $A$ is the better choice if:\n",
    "\n",
    "\\begin{equation}\n",
    "pds \\geq (1-p)db\n",
    "\\end{equation}\n",
    "\n",
    "that is,\n",
    "\n",
    "\\begin{equation}\n",
    "p \\geq \\frac{b}{a + b}\n",
    "\\end{equation}"
   ]
  },
  {
   "cell_type": "markdown",
   "metadata": {
    "cell_style": "split",
    "slideshow": {
     "slide_type": "fragment"
    }
   },
   "source": [
    "![](images/_2.png)"
   ]
  },
  {
   "cell_type": "markdown",
   "metadata": {
    "slideshow": {
     "slide_type": "subslide"
    }
   },
   "source": [
    "# Implications of the model: Cascading behavior\n",
    "\n",
    "![](images/_3.png)\n",
    "\n",
    "Notes: Starting with $v$ and $w$ as the initial adopters, and payoffs $a = 3$ and $b = 2$, the new behavior $A$ spreads to all nodes in two steps. Nodes adopting $A$ in a given step are drawn with dark borders; nodes\n",
    "adopting $B$ are drawn with light borders"
   ]
  },
  {
   "cell_type": "markdown",
   "metadata": {
    "slideshow": {
     "slide_type": "subslide"
    }
   },
   "source": [
    "# When does a cascade of adoption terminate?"
   ]
  },
  {
   "cell_type": "markdown",
   "metadata": {
    "cell_style": "split",
    "slideshow": {
     "slide_type": "fragment"
    }
   },
   "source": [
    "Possible equilibria:\n",
    "\n",
    "- everybody adopts A\n",
    "- nobody adopts A\n",
    "- intermediate situations"
   ]
  },
  {
   "cell_type": "markdown",
   "metadata": {
    "cell_style": "split",
    "slideshow": {
     "slide_type": "fragment"
    }
   },
   "source": [
    "![](images/_4.png)\n",
    "\n",
    "Notes: $a = 3$ and $b = 2$; starting with nodes 7 and 8 as the initial adopters, the new behavior A spreads to some but not all of the remaining nodes."
   ]
  },
  {
   "cell_type": "markdown",
   "metadata": {
    "slideshow": {
     "slide_type": "subslide"
    }
   },
   "source": [
    "# Model implication"
   ]
  },
  {
   "cell_type": "markdown",
   "metadata": {
    "cell_style": "split",
    "slideshow": {
     "slide_type": "fragment"
    }
   },
   "source": [
    "The spread of a new behavior can stall when it tries to break in to a tightly-knit community within the network"
   ]
  },
  {
   "cell_type": "markdown",
   "metadata": {
    "cell_style": "split",
    "slideshow": {
     "slide_type": "fragment"
    }
   },
   "source": [
    "![](images/_5.png)"
   ]
  },
  {
   "cell_type": "markdown",
   "metadata": {
    "slideshow": {
     "slide_type": "subslide"
    }
   },
   "source": [
    "# In-class discussion"
   ]
  },
  {
   "cell_type": "markdown",
   "metadata": {
    "cell_style": "split",
    "slideshow": {
     "slide_type": "fragment"
    }
   },
   "source": [
    "- in the example, $A$ is able to spread to a set of nodes where there is sufficiently dense internal connectivity, but it was never able to leap across the 'shores' in the network that separate nodes 8-10 from nodes 11-14, or that separate node 6 from node 2\n",
    "- as a result, we get coexistence between $A$ and $B$, with boundaries in the network where the two meet\n",
    "\n",
    "**Suppose A is a product, what levers would you use to deal with such a 'diffusion' empasse?**"
   ]
  },
  {
   "cell_type": "markdown",
   "metadata": {
    "cell_style": "split",
    "slideshow": {
     "slide_type": "fragment"
    }
   },
   "source": [
    "![](images/_5.png)\n",
    "\n",
    "Notes: $a = 3$ and $b = 2$; starting with nodes 7 and 8 as the initial adopters, the new behavior A spreads to some but not all of the remaining nodes."
   ]
  },
  {
   "cell_type": "markdown",
   "metadata": {
    "slideshow": {
     "slide_type": "slide"
    }
   },
   "source": [
    "# Network metrics and models ― Spreading phenomena"
   ]
  },
  {
   "cell_type": "markdown",
   "metadata": {
    "slideshow": {
     "slide_type": "subslide"
    }
   },
   "source": [
    "# Stylized facts: The SARS case\n",
    "\n",
    "- on the night of February 21, 2003 a physician from Guangdong Province in southern China checked into the Metropole Hotel in Hong Kong\n",
    "- he previously treated patients suffering from a disease that, lacking a clear diagnosis, was called atypical pneumonia. Next day, after leaving the hotel, he went to the local hospital, this time as a patient\n",
    "- he died there several days later of atypical pneumonia"
   ]
  },
  {
   "cell_type": "markdown",
   "metadata": {
    "slideshow": {
     "slide_type": "subslide"
    }
   },
   "source": [
    "# The SARS contagion network\n",
    "\n",
    "![](images/_6.jpg)"
   ]
  },
  {
   "cell_type": "markdown",
   "metadata": {
    "slideshow": {
     "slide_type": "subslide"
    }
   },
   "source": [
    "# Taxonomy of spreading phenomena"
   ]
  },
  {
   "cell_type": "markdown",
   "metadata": {
    "slideshow": {
     "slide_type": "fragment"
    }
   },
   "source": [
    "display(HTML(\n",
    "    <thead>\n",
    "      <tr>\n",
    "        <th>Phenomena</th>\n",
    "        <th>Agent</th>\n",
    "        <th>Network</th>\n",
    "      </tr>\n",
    "    </thead>\n",
    "    <tbody>\n",
    "      <tr>\n",
    "        <td>Venereal Disease</td>\n",
    "        <td>Pathogens</td>\n",
    "        <td>Sexual Network</td>\n",
    "      </tr>\n",
    "      <tr>\n",
    "        <td>Rumor Spreading</td>\n",
    "        <td>Information, Memes</td>\n",
    "        <td>Communication Network</td>\n",
    "      </tr>\n",
    "      <tr>\n",
    "        <td>Diffusion of Innovations</td>\n",
    "        <td>Ideas, Knowledge</td>\n",
    "        <td>Communication Network</td>\n",
    "      </tr>\n",
    "      <tr>\n",
    "        <td>Computer Viruses</td>\n",
    "        <td>Malwares, Digital viruses</td>\n",
    "        <td>Internet</td>\n",
    "      </tr>\n",
    "      <tr>\n",
    "        <td>Mobile Phone Virus</td>\n",
    "        <td>Mobile Viruses</td>\n",
    "        <td>Social Network/Proximity Network</td>\n",
    "      </tr>\n",
    "      <tr>\n",
    "        <td>Bedbugs</td>\n",
    "        <td>Parasitic Insects</td>\n",
    "        <td>Hotel - Traveler Network</td>\n",
    "      </tr>\n",
    "      <tr>\n",
    "        <td>Malaria</td>\n",
    "        <td>Plasmodium</td>\n",
    "        <td>Mosquito - Human network</td>\n",
    "      </tr>\n",
    "\n",
    "    </tbody>\n",
    " )"
   ]
  },
  {
   "cell_type": "markdown",
   "metadata": {
    "slideshow": {
     "slide_type": "subslide"
    }
   },
   "source": [
    "# The Susceptible-Infected (SI) model"
   ]
  },
  {
   "cell_type": "markdown",
   "metadata": {
    "cell_style": "split",
    "slideshow": {
     "slide_type": "fragment"
    }
   },
   "source": [
    "- in the SI model an individual can be in one of two states:\n",
    "    - susceptible (healthy) or\n",
    "    - infected (sick)\n",
    "    \n",
    "- the model assumes that if a susceptible individual comes into contact with an infected individual, it becomes infected at rate β\n",
    "- once an individual becomes infected, it stays infected, hence it cannot recover.\n",
    "- at early times the fraction of infected individuals grows exponentially\n",
    "- as eventually everyone becomes infected, at large times we have i(∞)=1.\n"
   ]
  },
  {
   "cell_type": "markdown",
   "metadata": {
    "cell_style": "split",
    "slideshow": {
     "slide_type": "fragment"
    }
   },
   "source": [
    "![](images/_7.jpg)"
   ]
  },
  {
   "cell_type": "markdown",
   "metadata": {
    "slideshow": {
     "slide_type": "subslide"
    }
   },
   "source": [
    "# Susceptible-Infected-Susceptible (SIS) Model"
   ]
  },
  {
   "cell_type": "markdown",
   "metadata": {
    "cell_style": "split",
    "slideshow": {
     "slide_type": "fragment"
    }
   },
   "source": [
    "- it has the same two states as the SI model, susceptible and infected\n",
    "- the difference is that now infected individuals recover at a fixed rate μ, becoming susceptible again\n",
    "- at large t the system reaches an endemic state, in which the fraction of infected individuals is constant, i(∞)"
   ]
  },
  {
   "cell_type": "markdown",
   "metadata": {
    "cell_style": "split",
    "slideshow": {
     "slide_type": "fragment"
    }
   },
   "source": [
    "![](images/_8.jpg)"
   ]
  },
  {
   "cell_type": "markdown",
   "metadata": {},
   "source": [
    "# Susceptible-Infected-Recovered (SIR) Model"
   ]
  },
  {
   "cell_type": "markdown",
   "metadata": {
    "cell_style": "split"
   },
   "source": [
    "- in contrast with the SIS model, in the SIR model recovered individuals enter a recovered state, meaning that they develop immunity rather than becoming susceptible again\n",
    "- the differential equations governing the time evolution of the fraction of individuals in the susceptible s, infected i and the removed r state.\n",
    "- the time dependent behavior of s, i and r as predicted by the equations shown in (b). \n",
    "- all individuals transition from a susceptible (healthy) state to the infected (sick) state and then to the recovered (immune) state. "
   ]
  },
  {
   "cell_type": "markdown",
   "metadata": {
    "cell_style": "split"
   },
   "source": [
    "![](images/_9.jpg)"
   ]
  },
  {
   "cell_type": "markdown",
   "metadata": {
    "slideshow": {
     "slide_type": "subslide"
    }
   },
   "source": [
    "# Susceptible-Infected (SI) Model on a Network"
   ]
  },
  {
   "cell_type": "markdown",
   "metadata": {
    "cell_style": "split",
    "slideshow": {
     "slide_type": "fragment"
    }
   },
   "source": [
    "- if a pathogen spreads on a network, individuals with more links are more likely to be in contact with an infected individual, hence they are more likely to be infected\n",
    "- therefore the mathematical formalism must consider the degree of each node as an implicit variable\n",
    "- this is achieved by the degree block approximation, that distinguishes nodes based on their degree and assumes that nodes with the same degree are statistically equivalent."
   ]
  },
  {
   "cell_type": "markdown",
   "metadata": {
    "cell_style": "split",
    "slideshow": {
     "slide_type": "fragment"
    }
   },
   "source": [
    "Therefore, we denote:\n",
    "\n",
    "\\begin{equation}\n",
    "i_{k} = \\frac{I_{k}}{N_{k}}\n",
    "\\end{equation}\n",
    "\n",
    "the fraction of nodes with degree k that are infected among all Nk degree-k nodes in the network. The total fraction of infected nodes is the sum of all infected degree-k nodes "
   ]
  },
  {
   "cell_type": "markdown",
   "metadata": {
    "slideshow": {
     "slide_type": "subslide"
    }
   },
   "source": [
    "# Susceptible-Infected (SI) Model on a Network (cont'd)\n",
    "\n",
    "Given the different node degrees, we write the SI model for each degree k/ separately: \n",
    "\n",
    "![](images/_10.jpg) "
   ]
  },
  {
   "cell_type": "markdown",
   "metadata": {
    "slideshow": {
     "slide_type": "subslide"
    }
   },
   "source": [
    "# What is exactly the role of networks for spreading phenomena?"
   ]
  },
  {
   "cell_type": "markdown",
   "metadata": {
    "slideshow": {
     "slide_type": "fragment"
    }
   },
   "source": [
    "- if the network on which a pathogen spreads is random, it is not possible to use network data in order to improve the predictions of the traditional epidemic models (see SI)\n",
    "- conversely, networks that deviate from the random distribution offer some empirical regularities (e.g., the existence of homophily) to produce better predictions"
   ]
  },
  {
   "cell_type": "markdown",
   "metadata": {
    "slideshow": {
     "slide_type": "subslide"
    }
   },
   "source": [
    "# Example: Sexually Transmitted Diseases"
   ]
  },
  {
   "cell_type": "markdown",
   "metadata": {
    "cell_style": "split",
    "slideshow": {
     "slide_type": "fragment"
    }
   },
   "source": [
    "- through interviews and questionnaires, researchers collected information from 4,781 randomly chosen Swedesh of ages 18 to 74\n",
    "- the participants were not asked to reveal the identity of their sexual partners, but only to estimate the number of sexual partners they had during their lifetime\n",
    "- hence the researchers could reconstruct the degree distribution of the sexual network, finding that it is well approximated with a power law "
   ]
  },
  {
   "cell_type": "markdown",
   "metadata": {
    "cell_style": "split",
    "slideshow": {
     "slide_type": "fragment"
    }
   },
   "source": [
    "![](images/_11.jpg)"
   ]
  },
  {
   "cell_type": "markdown",
   "metadata": {
    "cell_style": "center",
    "slideshow": {
     "slide_type": "subslide"
    }
   },
   "source": [
    "# Sexual hubs"
   ]
  },
  {
   "cell_type": "markdown",
   "metadata": {
    "cell_style": "split",
    "slideshow": {
     "slide_type": "fragment"
    }
   },
   "source": [
    "- anecdotal evidence suggests that sexual hubs are real\n",
    "- within the AIDS literature the story of Geetan Dugas, a flight attendant with approximately 250 homosexual partners, is well documented\n",
    "    - he is often called patient zero, whom, given his extensive travel, became a super-spreader of AIDS within the gay community"
   ]
  },
  {
   "cell_type": "markdown",
   "metadata": {
    "cell_style": "split",
    "slideshow": {
     "slide_type": "fragment"
    }
   },
   "source": [
    "![](images/_12.png)"
   ]
  },
  {
   "cell_type": "markdown",
   "metadata": {
    "slideshow": {
     "slide_type": "subslide"
    }
   },
   "source": [
    "# Complex and simple contagion: The case of memes"
   ]
  },
  {
   "cell_type": "markdown",
   "metadata": {
    "cell_style": "split",
    "slideshow": {
     "slide_type": "fragment"
    }
   },
   "source": [
    "- meme diffusion has attracted considerable attention from marketing to network science, communications, and social media\n",
    "- pathogens and memes can follow different spreading patterns, prompting us to systematically distinguish simple from complex contagion:\n",
    "    - simple contagion is the process we explored so far: It is sufficient to come into contact with an infected individual to be infected\n",
    "    - the spread of memes, products and behavior is often described by complex contagion, capturing the fact that most individuals do not adopt a new meme, product or behavioral pattern at the first contact "
   ]
  },
  {
   "cell_type": "markdown",
   "metadata": {
    "cell_style": "split",
    "slideshow": {
     "slide_type": "fragment"
    }
   },
   "source": [
    "![](images/_13.jpg)"
   ]
  },
  {
   "cell_type": "markdown",
   "metadata": {
    "slideshow": {
     "slide_type": "subslide"
    }
   },
   "source": [
    "# Spreading phenomena and temporal networks\n",
    "\n",
    "![](images/_14.jpg)"
   ]
  }
 ],
 "metadata": {
  "celltoolbar": "Slideshow",
  "kernelspec": {
   "display_name": "Python 3",
   "language": "python",
   "name": "python3"
  },
  "language_info": {
   "codemirror_mode": {
    "name": "ipython",
    "version": 3
   },
   "file_extension": ".py",
   "mimetype": "text/x-python",
   "name": "python",
   "nbconvert_exporter": "python",
   "pygments_lexer": "ipython3",
   "version": "3.7.5"
  },
  "latex_envs": {
   "LaTeX_envs_menu_present": true,
   "autoclose": false,
   "autocomplete": true,
   "bibliofile": "biblio.bib",
   "cite_by": "apalike",
   "current_citInitial": 1,
   "eqLabelWithNumbers": true,
   "eqNumInitial": 1,
   "hotkeys": {
    "equation": "Ctrl-E",
    "itemize": "Ctrl-I"
   },
   "labels_anchors": false,
   "latex_user_defs": false,
   "report_style_numbering": false,
   "user_envs_cfg": false
  },
  "toc": {
   "base_numbering": 1,
   "nav_menu": {},
   "number_sections": false,
   "sideBar": true,
   "skip_h1_title": false,
   "title_cell": "Table of Contents",
   "title_sidebar": "Contents",
   "toc_cell": false,
   "toc_position": {
    "height": "calc(100% - 180px)",
    "left": "10px",
    "top": "150px",
    "width": "345.6px"
   },
   "toc_section_display": true,
   "toc_window_display": false
  },
  "varInspector": {
   "cols": {
    "lenName": 16,
    "lenType": 16,
    "lenVar": 40
   },
   "kernels_config": {
    "python": {
     "delete_cmd_postfix": "",
     "delete_cmd_prefix": "del ",
     "library": "var_list.py",
     "varRefreshCmd": "print(var_dic_list())"
    },
    "r": {
     "delete_cmd_postfix": ") ",
     "delete_cmd_prefix": "rm(",
     "library": "var_list.r",
     "varRefreshCmd": "cat(var_dic_list()) "
    }
   },
   "types_to_exclude": [
    "module",
    "function",
    "builtin_function_or_method",
    "instance",
    "_Feature"
   ],
   "window_display": false
  }
 },
 "nbformat": 4,
 "nbformat_minor": 2
}
